{
 "cells": [
  {
   "cell_type": "markdown",
   "metadata": {},
   "source": [
    "<h1>Injured in Madrid due to traffic accidents during 2019</h1>\n",
    "<h4>by Iván Lucas López</h4>\n",
    "\n"
   ]
  },
  {
   "cell_type": "markdown",
   "metadata": {},
   "source": [
    "### Table of Contents\n",
    "\n",
    "1. [Business Understanding](#Business)\n",
    "2. [Data Understanding](#Data)\n",
    "3. [Data Preparation](#Preparation)\n",
    "4. [Modeling](#Modeling)\n",
    "5. [Evaluation](#Evaluation)\n"
   ]
  },
  {
   "cell_type": "markdown",
   "metadata": {},
   "source": [
    "## Business Understanding <a name=\"Business\"></a>\n",
    "\n",
    "**Study on traffic accidents in Madrid**\n",
    "\n",
    "For this project, I was interestested in using El Ayuntamiento de Madrid data from 2019 about traffic accidents to better understand:\n",
    "\n",
    "1. How many traffic accident occurred in Madrid during 2019?, \n",
    "  How many people are involved? and \n",
    "  What is the average number of people involved in a traffic accident?\n",
    "  \n",
    "2. What day of the week are there the most accidents?\n",
    "\n",
    "3. What time do most accidents occur?\n",
    "\n",
    "4. At what age are more traffic accidents suffered?"
   ]
  },
  {
   "cell_type": "markdown",
   "metadata": {},
   "source": [
    "## Data Understanding <a name=\"Data\"></a>\n",
    "\n",
    "The dataset can be find in: \n",
    "https://datos.madrid.es/portal/site/egob/menuitem.c05c1f754a33a9fbe4b2e4b284f1a5a0/?vgnextoid=7c2843010d9c3610VgnVCM2000001f4a900aRCRD&vgnextchannel=374512b9ace9f310VgnVCM100000171f5a0aRCRD&vgnextfmt=default"
   ]
  },
  {
   "cell_type": "markdown",
   "metadata": {},
   "source": [
    "First the code to import the necesary **libraries** and the **dataset**"
   ]
  },
  {
   "cell_type": "code",
   "execution_count": 1,
   "metadata": {},
   "outputs": [
    {
     "data": {
      "text/html": [
       "<div>\n",
       "<style scoped>\n",
       "    .dataframe tbody tr th:only-of-type {\n",
       "        vertical-align: middle;\n",
       "    }\n",
       "\n",
       "    .dataframe tbody tr th {\n",
       "        vertical-align: top;\n",
       "    }\n",
       "\n",
       "    .dataframe thead th {\n",
       "        text-align: right;\n",
       "    }\n",
       "</style>\n",
       "<table border=\"1\" class=\"dataframe\">\n",
       "  <thead>\n",
       "    <tr style=\"text-align: right;\">\n",
       "      <th></th>\n",
       "      <th>N_EXPEDIENTE</th>\n",
       "      <th>FECHA</th>\n",
       "      <th>HORA</th>\n",
       "      <th>CALLE</th>\n",
       "      <th>NUMERO</th>\n",
       "      <th>DISTRITO</th>\n",
       "      <th>TIPO ACCIDENTE</th>\n",
       "      <th>ESTADO METEREOLOGICO</th>\n",
       "      <th>TIPO VEHICULO</th>\n",
       "      <th>TIPO PERSONA</th>\n",
       "      <th>RANGO EDAD</th>\n",
       "      <th>SEXO</th>\n",
       "      <th>LESIVIDAD</th>\n",
       "    </tr>\n",
       "  </thead>\n",
       "  <tbody>\n",
       "    <tr>\n",
       "      <th>0</th>\n",
       "      <td>2019S000020</td>\n",
       "      <td>01/01/2019</td>\n",
       "      <td>23:30</td>\n",
       "      <td>CALL. FUENCARRAL</td>\n",
       "      <td>149</td>\n",
       "      <td>CHAMBERÍ</td>\n",
       "      <td>Caída</td>\n",
       "      <td>Despejado</td>\n",
       "      <td>Ciclomotor</td>\n",
       "      <td>Conductor</td>\n",
       "      <td>DE 25 A 29 AÑOS</td>\n",
       "      <td>Hombre</td>\n",
       "      <td>1.0</td>\n",
       "    </tr>\n",
       "    <tr>\n",
       "      <th>1</th>\n",
       "      <td>2019S000017</td>\n",
       "      <td>01/01/2019</td>\n",
       "      <td>22:15</td>\n",
       "      <td>CALL. OCA / CALL. PINZON</td>\n",
       "      <td>-</td>\n",
       "      <td>CARABANCHEL</td>\n",
       "      <td>Colisión fronto-lateral</td>\n",
       "      <td>Despejado</td>\n",
       "      <td>Turismo</td>\n",
       "      <td>Conductor</td>\n",
       "      <td>DE 40 A 44 AÑOS</td>\n",
       "      <td>Mujer</td>\n",
       "      <td>14.0</td>\n",
       "    </tr>\n",
       "    <tr>\n",
       "      <th>2</th>\n",
       "      <td>2019S000017</td>\n",
       "      <td>01/01/2019</td>\n",
       "      <td>22:15</td>\n",
       "      <td>CALL. OCA / CALL. PINZON</td>\n",
       "      <td>-</td>\n",
       "      <td>CARABANCHEL</td>\n",
       "      <td>Colisión fronto-lateral</td>\n",
       "      <td>Despejado</td>\n",
       "      <td>Ciclomotor</td>\n",
       "      <td>Conductor</td>\n",
       "      <td>DE 35 A 39 AÑOS</td>\n",
       "      <td>Hombre</td>\n",
       "      <td>3.0</td>\n",
       "    </tr>\n",
       "    <tr>\n",
       "      <th>3</th>\n",
       "      <td>2019S001812</td>\n",
       "      <td>01/01/2019</td>\n",
       "      <td>21:40</td>\n",
       "      <td>CALL. BAILEN / CUSTA. SAN VICENTE</td>\n",
       "      <td>-</td>\n",
       "      <td>CENTRO</td>\n",
       "      <td>Colisión fronto-lateral</td>\n",
       "      <td>Despejado</td>\n",
       "      <td>Turismo</td>\n",
       "      <td>Conductor</td>\n",
       "      <td>DE 40 A 44 AÑOS</td>\n",
       "      <td>Hombre</td>\n",
       "      <td>14.0</td>\n",
       "    </tr>\n",
       "    <tr>\n",
       "      <th>4</th>\n",
       "      <td>2019S001812</td>\n",
       "      <td>01/01/2019</td>\n",
       "      <td>21:40</td>\n",
       "      <td>CALL. BAILEN / CUSTA. SAN VICENTE</td>\n",
       "      <td>-</td>\n",
       "      <td>CENTRO</td>\n",
       "      <td>Colisión fronto-lateral</td>\n",
       "      <td>Despejado</td>\n",
       "      <td>Turismo</td>\n",
       "      <td>Conductor</td>\n",
       "      <td>DE 30 A 34 AÑOS</td>\n",
       "      <td>Mujer</td>\n",
       "      <td>7.0</td>\n",
       "    </tr>\n",
       "  </tbody>\n",
       "</table>\n",
       "</div>"
      ],
      "text/plain": [
       "  N_EXPEDIENTE       FECHA   HORA                              CALLE NUMERO  \\\n",
       "0  2019S000020  01/01/2019  23:30                   CALL. FUENCARRAL    149   \n",
       "1  2019S000017  01/01/2019  22:15           CALL. OCA / CALL. PINZON      -   \n",
       "2  2019S000017  01/01/2019  22:15           CALL. OCA / CALL. PINZON      -   \n",
       "3  2019S001812  01/01/2019  21:40  CALL. BAILEN / CUSTA. SAN VICENTE      -   \n",
       "4  2019S001812  01/01/2019  21:40  CALL. BAILEN / CUSTA. SAN VICENTE      -   \n",
       "\n",
       "      DISTRITO           TIPO ACCIDENTE ESTADO METEREOLOGICO TIPO VEHICULO  \\\n",
       "0     CHAMBERÍ                    Caída            Despejado    Ciclomotor   \n",
       "1  CARABANCHEL  Colisión fronto-lateral            Despejado       Turismo   \n",
       "2  CARABANCHEL  Colisión fronto-lateral            Despejado    Ciclomotor   \n",
       "3       CENTRO  Colisión fronto-lateral            Despejado       Turismo   \n",
       "4       CENTRO  Colisión fronto-lateral            Despejado       Turismo   \n",
       "\n",
       "  TIPO PERSONA       RANGO EDAD    SEXO  LESIVIDAD  \n",
       "0    Conductor  DE 25 A 29 AÑOS  Hombre        1.0  \n",
       "1    Conductor  DE 40 A 44 AÑOS   Mujer       14.0  \n",
       "2    Conductor  DE 35 A 39 AÑOS  Hombre        3.0  \n",
       "3    Conductor  DE 40 A 44 AÑOS  Hombre       14.0  \n",
       "4    Conductor  DE 30 A 34 AÑOS   Mujer        7.0  "
      ]
     },
     "execution_count": 1,
     "metadata": {},
     "output_type": "execute_result"
    }
   ],
   "source": [
    "import numpy as np\n",
    "import pandas as pd\n",
    "import matplotlib.pyplot as plt\n",
    "%matplotlib inline\n",
    "\n",
    "df = pd.read_csv('2019_Accidentalidad.csv', sep=';' , encoding='latin-1')\n",
    "df.head()"
   ]
  },
  {
   "cell_type": "markdown",
   "metadata": {},
   "source": [
    "### Rename the columns seems a good idea in orther to create a dataset understable in English languaje"
   ]
  },
  {
   "cell_type": "code",
   "execution_count": 2,
   "metadata": {},
   "outputs": [],
   "source": [
    "df.rename(columns={'N_EXPEDIENTE': 'exp','FECHA': 'date'\n",
    "                  ,'CALLE': 'street' ,'NUMERO': 'number'\n",
    "                  ,'DISTRITO': 'district' ,'TIPO VEHICULO': 'vehType'\n",
    "                  ,'ESTADO METEREOLOGICO': 'weather' ,'TIPO ACCIDENTE': 'accType'\n",
    "                  ,'TIPO PERSONA': 'person' ,'RANGO EDAD': 'age'\n",
    "                  ,'SEXO': 'sex' ,'LESIVIDAD': 'injuries' ,'HORA': 'time'}, inplace=True)"
   ]
  },
  {
   "cell_type": "code",
   "execution_count": 3,
   "metadata": {},
   "outputs": [
    {
     "data": {
      "text/plain": [
       "Index(['exp', 'date', 'time', 'street', 'number', 'district', 'accType',\n",
       "       'weather', 'vehType', 'person', 'age', 'sex', 'injuries'],\n",
       "      dtype='object')"
      ]
     },
     "execution_count": 3,
     "metadata": {},
     "output_type": "execute_result"
    }
   ],
   "source": [
    "df.columns"
   ]
  },
  {
   "cell_type": "markdown",
   "metadata": {},
   "source": [
    "## Data Preparation <a name=\"Preparation\"></a>"
   ]
  },
  {
   "cell_type": "markdown",
   "metadata": {},
   "source": [
    "### Let's create some aditional columns based on the date of the accident and the hour"
   ]
  },
  {
   "cell_type": "code",
   "execution_count": 4,
   "metadata": {},
   "outputs": [
    {
     "data": {
      "text/html": [
       "<div>\n",
       "<style scoped>\n",
       "    .dataframe tbody tr th:only-of-type {\n",
       "        vertical-align: middle;\n",
       "    }\n",
       "\n",
       "    .dataframe tbody tr th {\n",
       "        vertical-align: top;\n",
       "    }\n",
       "\n",
       "    .dataframe thead th {\n",
       "        text-align: right;\n",
       "    }\n",
       "</style>\n",
       "<table border=\"1\" class=\"dataframe\">\n",
       "  <thead>\n",
       "    <tr style=\"text-align: right;\">\n",
       "      <th></th>\n",
       "      <th>exp</th>\n",
       "      <th>date</th>\n",
       "      <th>time</th>\n",
       "      <th>street</th>\n",
       "      <th>number</th>\n",
       "      <th>district</th>\n",
       "      <th>accType</th>\n",
       "      <th>weather</th>\n",
       "      <th>vehType</th>\n",
       "      <th>person</th>\n",
       "      <th>age</th>\n",
       "      <th>sex</th>\n",
       "      <th>injuries</th>\n",
       "      <th>hour</th>\n",
       "      <th>year</th>\n",
       "      <th>month</th>\n",
       "      <th>day</th>\n",
       "      <th>day_of_week</th>\n",
       "    </tr>\n",
       "  </thead>\n",
       "  <tbody>\n",
       "    <tr>\n",
       "      <th>0</th>\n",
       "      <td>2019S000020</td>\n",
       "      <td>2019-01-01</td>\n",
       "      <td>23:30</td>\n",
       "      <td>CALL. FUENCARRAL</td>\n",
       "      <td>149</td>\n",
       "      <td>CHAMBERÍ</td>\n",
       "      <td>Caída</td>\n",
       "      <td>Despejado</td>\n",
       "      <td>Ciclomotor</td>\n",
       "      <td>Conductor</td>\n",
       "      <td>DE 25 A 29 AÑOS</td>\n",
       "      <td>Hombre</td>\n",
       "      <td>1.0</td>\n",
       "      <td>23</td>\n",
       "      <td>2019</td>\n",
       "      <td>1</td>\n",
       "      <td>1</td>\n",
       "      <td>Tuesday</td>\n",
       "    </tr>\n",
       "    <tr>\n",
       "      <th>1</th>\n",
       "      <td>2019S000017</td>\n",
       "      <td>2019-01-01</td>\n",
       "      <td>22:15</td>\n",
       "      <td>CALL. OCA / CALL. PINZON</td>\n",
       "      <td>-</td>\n",
       "      <td>CARABANCHEL</td>\n",
       "      <td>Colisión fronto-lateral</td>\n",
       "      <td>Despejado</td>\n",
       "      <td>Turismo</td>\n",
       "      <td>Conductor</td>\n",
       "      <td>DE 40 A 44 AÑOS</td>\n",
       "      <td>Mujer</td>\n",
       "      <td>14.0</td>\n",
       "      <td>22</td>\n",
       "      <td>2019</td>\n",
       "      <td>1</td>\n",
       "      <td>1</td>\n",
       "      <td>Tuesday</td>\n",
       "    </tr>\n",
       "    <tr>\n",
       "      <th>2</th>\n",
       "      <td>2019S000017</td>\n",
       "      <td>2019-01-01</td>\n",
       "      <td>22:15</td>\n",
       "      <td>CALL. OCA / CALL. PINZON</td>\n",
       "      <td>-</td>\n",
       "      <td>CARABANCHEL</td>\n",
       "      <td>Colisión fronto-lateral</td>\n",
       "      <td>Despejado</td>\n",
       "      <td>Ciclomotor</td>\n",
       "      <td>Conductor</td>\n",
       "      <td>DE 35 A 39 AÑOS</td>\n",
       "      <td>Hombre</td>\n",
       "      <td>3.0</td>\n",
       "      <td>22</td>\n",
       "      <td>2019</td>\n",
       "      <td>1</td>\n",
       "      <td>1</td>\n",
       "      <td>Tuesday</td>\n",
       "    </tr>\n",
       "    <tr>\n",
       "      <th>3</th>\n",
       "      <td>2019S001812</td>\n",
       "      <td>2019-01-01</td>\n",
       "      <td>21:40</td>\n",
       "      <td>CALL. BAILEN / CUSTA. SAN VICENTE</td>\n",
       "      <td>-</td>\n",
       "      <td>CENTRO</td>\n",
       "      <td>Colisión fronto-lateral</td>\n",
       "      <td>Despejado</td>\n",
       "      <td>Turismo</td>\n",
       "      <td>Conductor</td>\n",
       "      <td>DE 40 A 44 AÑOS</td>\n",
       "      <td>Hombre</td>\n",
       "      <td>14.0</td>\n",
       "      <td>21</td>\n",
       "      <td>2019</td>\n",
       "      <td>1</td>\n",
       "      <td>1</td>\n",
       "      <td>Tuesday</td>\n",
       "    </tr>\n",
       "    <tr>\n",
       "      <th>4</th>\n",
       "      <td>2019S001812</td>\n",
       "      <td>2019-01-01</td>\n",
       "      <td>21:40</td>\n",
       "      <td>CALL. BAILEN / CUSTA. SAN VICENTE</td>\n",
       "      <td>-</td>\n",
       "      <td>CENTRO</td>\n",
       "      <td>Colisión fronto-lateral</td>\n",
       "      <td>Despejado</td>\n",
       "      <td>Turismo</td>\n",
       "      <td>Conductor</td>\n",
       "      <td>DE 30 A 34 AÑOS</td>\n",
       "      <td>Mujer</td>\n",
       "      <td>7.0</td>\n",
       "      <td>21</td>\n",
       "      <td>2019</td>\n",
       "      <td>1</td>\n",
       "      <td>1</td>\n",
       "      <td>Tuesday</td>\n",
       "    </tr>\n",
       "  </tbody>\n",
       "</table>\n",
       "</div>"
      ],
      "text/plain": [
       "           exp       date   time                             street number  \\\n",
       "0  2019S000020 2019-01-01  23:30                   CALL. FUENCARRAL    149   \n",
       "1  2019S000017 2019-01-01  22:15           CALL. OCA / CALL. PINZON      -   \n",
       "2  2019S000017 2019-01-01  22:15           CALL. OCA / CALL. PINZON      -   \n",
       "3  2019S001812 2019-01-01  21:40  CALL. BAILEN / CUSTA. SAN VICENTE      -   \n",
       "4  2019S001812 2019-01-01  21:40  CALL. BAILEN / CUSTA. SAN VICENTE      -   \n",
       "\n",
       "      district                  accType    weather     vehType     person  \\\n",
       "0     CHAMBERÍ                    Caída  Despejado  Ciclomotor  Conductor   \n",
       "1  CARABANCHEL  Colisión fronto-lateral  Despejado     Turismo  Conductor   \n",
       "2  CARABANCHEL  Colisión fronto-lateral  Despejado  Ciclomotor  Conductor   \n",
       "3       CENTRO  Colisión fronto-lateral  Despejado     Turismo  Conductor   \n",
       "4       CENTRO  Colisión fronto-lateral  Despejado     Turismo  Conductor   \n",
       "\n",
       "               age     sex  injuries  hour  year  month  day day_of_week  \n",
       "0  DE 25 A 29 AÑOS  Hombre       1.0    23  2019      1    1     Tuesday  \n",
       "1  DE 40 A 44 AÑOS   Mujer      14.0    22  2019      1    1     Tuesday  \n",
       "2  DE 35 A 39 AÑOS  Hombre       3.0    22  2019      1    1     Tuesday  \n",
       "3  DE 40 A 44 AÑOS  Hombre      14.0    21  2019      1    1     Tuesday  \n",
       "4  DE 30 A 34 AÑOS   Mujer       7.0    21  2019      1    1     Tuesday  "
      ]
     },
     "execution_count": 4,
     "metadata": {},
     "output_type": "execute_result"
    }
   ],
   "source": [
    "df['date'] = pd.to_datetime(df['date'], format=\"%d/%m/%Y\") #This gives datetime format to the 'date' variable\n",
    "df['hour'] = pd.to_datetime(df['time']).dt.hour #This create a variable named 'hour' with the accident hour\n",
    "df['year'] = pd.DatetimeIndex(df['date']).year  #This create a variable named 'year' with the year of the accident\n",
    "df['month'] = pd.DatetimeIndex(df['date']).month #This create a variable named 'month' with the month of the accident\n",
    "df['day'] = pd.DatetimeIndex(df['date']).day  #This create a variable named 'day' with the day of the accident\n",
    "df['day_of_week'] = df['date'].dt.weekday_name #This create a variable named 'day_of_week' with the day of the week \n",
    "df.head()"
   ]
  },
  {
   "cell_type": "markdown",
   "metadata": {},
   "source": [
    "### Using dictionaries, rename the columns values in orther to create a dataset understable in English languaje"
   ]
  },
  {
   "cell_type": "code",
   "execution_count": 5,
   "metadata": {},
   "outputs": [],
   "source": [
    "#create de dictionaries\n",
    "\n",
    "di = {'Hombre': \"Man\", \n",
    "      'Mujer': \"Woman\"}\n",
    "\n",
    "di2 = {'Despejado': \"Clear\", \n",
    "       'Lluvia débil': \"Rain\", \n",
    "       'Nublado': \"Cloudy\", \n",
    "       'Se desconoce': \"Other\" ,\n",
    "       'LLuvia intensa': \"HeavyRain\",\n",
    "       'Granizando': \"Hail\",\n",
    "       'Nevando': \"Snow\",}\n",
    "\n",
    "di3 = {'DE 0 A 5 AÑOS': \"a.[0,5]\"\n",
    "       ,'DE 6 A 9 AÑOS': \"b.[6,9]\"\n",
    "      ,'DE 10 A 14 AÑOS': \"c.[10,14]\"\n",
    "      ,'DE 15 A 17 AÑOS': \"d.[15,17]\"\n",
    "      ,'DE 18 A 20 AÑOS': \"e.[18,20]\"\n",
    "      ,'DE 21 A 24 AÑOS': \"f.[21,24]\"\n",
    "      ,'DE 25 A 29 AÑOS': \"g.[25,29]\"\n",
    "      ,'DE 30 A 34 AÑOS': \"h.[30,34]\"\n",
    "      ,'DE 35 A 39 AÑOS': \"i.[35,39]\"\n",
    "      ,'DE 40 A 44 AÑOS': \"j.[40,44]\"\n",
    "      ,'DE 45 A 49 AÑOS': \"k.[45,49]\"\n",
    "      ,'DE 50 A 54 AÑOS': \"l.[50,54]\"\n",
    "      ,'DE 55 A 59 AÑOS': \"m.[55,59]\"\n",
    "      ,'DE 60 A 64 AÑOS': \"n.[60,64]\"\n",
    "      ,'DE 65 A 69 AÑOS': \"o.[65,69]\"\n",
    "      ,'DE 70 A 74 AÑOS': \"p.[70,74]\"\n",
    "      ,'MAYOR DE 74 AÑOS': \"q.[75,.)\"\n",
    "      ,'DESCONOCIDA': \"w.[Unknown]\"}\n",
    "\n",
    "di4 = {'Conductor': \"Driver\", \n",
    "       'Pasajero': \"Passenger\", \n",
    "       'Peatón': \"Pedestrian\"}"
   ]
  },
  {
   "cell_type": "markdown",
   "metadata": {},
   "source": [
    "There are many ways to deal with missing values.\n",
    "\n",
    "When I do an Exploratory Data Analisys.[here](https://en.wikipedia.org/wiki/Exploratory_data_analysis)\n",
    "\n",
    "I usually follow the next rules (which I find really useful in my daily profesional life):\n",
    "1. Try to understand the variable before dealing with missing values.(how is it collected?, Expected values...)\n",
    "2. Only delete a variable if it's clear that it gives no relevant information.\n",
    "3. Only delete a row with a missing value if it gives no relevant infomation.\n",
    "4. Fill NaN with another value of the variable only if its clear that the value chosen is the correct one.\n",
    "5. If point 4 can not be applied, then fill NaN with a new value that allows us to now that it is a missing value.\n",
    "\n",
    "Why do I use this rules?\n",
    "1. If the missing values are generated by a IT mistake, they will be easier to report and solve.\n",
    "2. This way it is easier to find out if the missing values have an effect on other variables."
   ]
  },
  {
   "cell_type": "code",
   "execution_count": 6,
   "metadata": {},
   "outputs": [],
   "source": [
    "def use_dict(df,vari, dicti, comple):\n",
    "    \"\"\" \n",
    "    Summary line. \n",
    "    This function has been created to deal with the variables that I want to modify using a dictionary\n",
    "    also to deal with the missing values filling them with a value choosen by me.\n",
    "    In this case I think that the best option is the fifth rule. \n",
    "      \n",
    "    Parameters: \n",
    "    - df: the dataframe in which we want to apply the dictionary and to fill NaN\n",
    "      \n",
    "    - vari: variable \n",
    "      \n",
    "    - dicti: the dictionary we want to apply\n",
    "      \n",
    "    - comple: the value chosen to fill NaN\n",
    "      \n",
    "    Returns: \n",
    "    df where the chosen variable has replaced its values with the dictionary ones \n",
    "    also the missing values have been replaced by the chosen value 'comple'.\n",
    "      \n",
    "    \"\"\"\n",
    "    df=df.replace({vari: dicti})\n",
    "    df[vari].fillna(comple, inplace=True) \n",
    "    return df\n",
    "    \n",
    "\n",
    "# variables data = [variable, dictionary, value for NaN]\n",
    "subjects =[[\"sex\",     di,\"Other\"],       # variable1\n",
    "           [\"weather\",di2,\"Other\"],       # variable2\n",
    "           [\"age\",    di3,\"w.[Unknown]\"], # variable3\n",
    "           [\"person\", di4,\"Other\"]]       # variable4\n",
    "\n",
    "for sub in subjects:\n",
    "    df = use_dict(df,sub[0], sub[1], sub[2])"
   ]
  },
  {
   "cell_type": "code",
   "execution_count": 8,
   "metadata": {},
   "outputs": [
    {
     "data": {
      "text/html": [
       "<div>\n",
       "<style scoped>\n",
       "    .dataframe tbody tr th:only-of-type {\n",
       "        vertical-align: middle;\n",
       "    }\n",
       "\n",
       "    .dataframe tbody tr th {\n",
       "        vertical-align: top;\n",
       "    }\n",
       "\n",
       "    .dataframe thead th {\n",
       "        text-align: right;\n",
       "    }\n",
       "</style>\n",
       "<table border=\"1\" class=\"dataframe\">\n",
       "  <thead>\n",
       "    <tr style=\"text-align: right;\">\n",
       "      <th></th>\n",
       "      <th>exp</th>\n",
       "      <th>date</th>\n",
       "      <th>time</th>\n",
       "      <th>street</th>\n",
       "      <th>number</th>\n",
       "      <th>district</th>\n",
       "      <th>accType</th>\n",
       "      <th>weather</th>\n",
       "      <th>vehType</th>\n",
       "      <th>person</th>\n",
       "      <th>age</th>\n",
       "      <th>sex</th>\n",
       "      <th>injuries</th>\n",
       "      <th>hour</th>\n",
       "      <th>year</th>\n",
       "      <th>month</th>\n",
       "      <th>day</th>\n",
       "      <th>day_of_week</th>\n",
       "    </tr>\n",
       "  </thead>\n",
       "  <tbody>\n",
       "    <tr>\n",
       "      <th>0</th>\n",
       "      <td>2019S000020</td>\n",
       "      <td>2019-01-01</td>\n",
       "      <td>23:30</td>\n",
       "      <td>CALL. FUENCARRAL</td>\n",
       "      <td>149</td>\n",
       "      <td>CHAMBERÍ</td>\n",
       "      <td>Caída</td>\n",
       "      <td>Clear</td>\n",
       "      <td>Ciclomotor</td>\n",
       "      <td>Driver</td>\n",
       "      <td>g.[25,29]</td>\n",
       "      <td>Man</td>\n",
       "      <td>1.0</td>\n",
       "      <td>23</td>\n",
       "      <td>2019</td>\n",
       "      <td>1</td>\n",
       "      <td>1</td>\n",
       "      <td>Tuesday</td>\n",
       "    </tr>\n",
       "    <tr>\n",
       "      <th>1</th>\n",
       "      <td>2019S000017</td>\n",
       "      <td>2019-01-01</td>\n",
       "      <td>22:15</td>\n",
       "      <td>CALL. OCA / CALL. PINZON</td>\n",
       "      <td>-</td>\n",
       "      <td>CARABANCHEL</td>\n",
       "      <td>Colisión fronto-lateral</td>\n",
       "      <td>Clear</td>\n",
       "      <td>Turismo</td>\n",
       "      <td>Driver</td>\n",
       "      <td>j.[40,44]</td>\n",
       "      <td>Woman</td>\n",
       "      <td>14.0</td>\n",
       "      <td>22</td>\n",
       "      <td>2019</td>\n",
       "      <td>1</td>\n",
       "      <td>1</td>\n",
       "      <td>Tuesday</td>\n",
       "    </tr>\n",
       "    <tr>\n",
       "      <th>2</th>\n",
       "      <td>2019S000017</td>\n",
       "      <td>2019-01-01</td>\n",
       "      <td>22:15</td>\n",
       "      <td>CALL. OCA / CALL. PINZON</td>\n",
       "      <td>-</td>\n",
       "      <td>CARABANCHEL</td>\n",
       "      <td>Colisión fronto-lateral</td>\n",
       "      <td>Clear</td>\n",
       "      <td>Ciclomotor</td>\n",
       "      <td>Driver</td>\n",
       "      <td>i.[35,39]</td>\n",
       "      <td>Man</td>\n",
       "      <td>3.0</td>\n",
       "      <td>22</td>\n",
       "      <td>2019</td>\n",
       "      <td>1</td>\n",
       "      <td>1</td>\n",
       "      <td>Tuesday</td>\n",
       "    </tr>\n",
       "    <tr>\n",
       "      <th>3</th>\n",
       "      <td>2019S001812</td>\n",
       "      <td>2019-01-01</td>\n",
       "      <td>21:40</td>\n",
       "      <td>CALL. BAILEN / CUSTA. SAN VICENTE</td>\n",
       "      <td>-</td>\n",
       "      <td>CENTRO</td>\n",
       "      <td>Colisión fronto-lateral</td>\n",
       "      <td>Clear</td>\n",
       "      <td>Turismo</td>\n",
       "      <td>Driver</td>\n",
       "      <td>j.[40,44]</td>\n",
       "      <td>Man</td>\n",
       "      <td>14.0</td>\n",
       "      <td>21</td>\n",
       "      <td>2019</td>\n",
       "      <td>1</td>\n",
       "      <td>1</td>\n",
       "      <td>Tuesday</td>\n",
       "    </tr>\n",
       "    <tr>\n",
       "      <th>4</th>\n",
       "      <td>2019S001812</td>\n",
       "      <td>2019-01-01</td>\n",
       "      <td>21:40</td>\n",
       "      <td>CALL. BAILEN / CUSTA. SAN VICENTE</td>\n",
       "      <td>-</td>\n",
       "      <td>CENTRO</td>\n",
       "      <td>Colisión fronto-lateral</td>\n",
       "      <td>Clear</td>\n",
       "      <td>Turismo</td>\n",
       "      <td>Driver</td>\n",
       "      <td>h.[30,34]</td>\n",
       "      <td>Woman</td>\n",
       "      <td>7.0</td>\n",
       "      <td>21</td>\n",
       "      <td>2019</td>\n",
       "      <td>1</td>\n",
       "      <td>1</td>\n",
       "      <td>Tuesday</td>\n",
       "    </tr>\n",
       "  </tbody>\n",
       "</table>\n",
       "</div>"
      ],
      "text/plain": [
       "           exp       date   time                             street number  \\\n",
       "0  2019S000020 2019-01-01  23:30                   CALL. FUENCARRAL    149   \n",
       "1  2019S000017 2019-01-01  22:15           CALL. OCA / CALL. PINZON      -   \n",
       "2  2019S000017 2019-01-01  22:15           CALL. OCA / CALL. PINZON      -   \n",
       "3  2019S001812 2019-01-01  21:40  CALL. BAILEN / CUSTA. SAN VICENTE      -   \n",
       "4  2019S001812 2019-01-01  21:40  CALL. BAILEN / CUSTA. SAN VICENTE      -   \n",
       "\n",
       "      district                  accType weather     vehType  person  \\\n",
       "0     CHAMBERÍ                    Caída   Clear  Ciclomotor  Driver   \n",
       "1  CARABANCHEL  Colisión fronto-lateral   Clear     Turismo  Driver   \n",
       "2  CARABANCHEL  Colisión fronto-lateral   Clear  Ciclomotor  Driver   \n",
       "3       CENTRO  Colisión fronto-lateral   Clear     Turismo  Driver   \n",
       "4       CENTRO  Colisión fronto-lateral   Clear     Turismo  Driver   \n",
       "\n",
       "         age    sex  injuries  hour  year  month  day day_of_week  \n",
       "0  g.[25,29]    Man       1.0    23  2019      1    1     Tuesday  \n",
       "1  j.[40,44]  Woman      14.0    22  2019      1    1     Tuesday  \n",
       "2  i.[35,39]    Man       3.0    22  2019      1    1     Tuesday  \n",
       "3  j.[40,44]    Man      14.0    21  2019      1    1     Tuesday  \n",
       "4  h.[30,34]  Woman       7.0    21  2019      1    1     Tuesday  "
      ]
     },
     "execution_count": 8,
     "metadata": {},
     "output_type": "execute_result"
    }
   ],
   "source": [
    "df.head()"
   ]
  },
  {
   "cell_type": "markdown",
   "metadata": {},
   "source": [
    "## Modeling <a name=\"Modeling\"></a>"
   ]
  },
  {
   "cell_type": "markdown",
   "metadata": {},
   "source": [
    " Before dealing with the questions weshould keep in mind this dataset includes:\n",
    " \n",
    "  - Traffic accidents in the City of Madrid registered by the Municipal Police in 2019.\n",
    "  - One record is included per person involved in the accident.\n",
    "  - Witness records not included."
   ]
  },
  {
   "cell_type": "markdown",
   "metadata": {},
   "source": [
    "### Q1.1. - How many people are involved in a traffic accident in Madrid during 2019?"
   ]
  },
  {
   "cell_type": "markdown",
   "metadata": {},
   "source": [
    "One record is included per person involved in the accident. To answer this quetion we have to know the number of rows in our dataset."
   ]
  },
  {
   "cell_type": "code",
   "execution_count": 9,
   "metadata": {},
   "outputs": [
    {
     "data": {
      "text/plain": [
       "51806"
      ]
     },
     "execution_count": 9,
     "metadata": {},
     "output_type": "execute_result"
    }
   ],
   "source": [
    "#number of people involved in a car accident ocurred during 2019\n",
    "df.shape[0]"
   ]
  },
  {
   "cell_type": "markdown",
   "metadata": {},
   "source": [
    "### Q1.2. - How many car accident occurred during 2019?"
   ]
  },
  {
   "cell_type": "markdown",
   "metadata": {},
   "source": [
    "One record is included per person involved in the accident.\n",
    "That means that one single accident could have more than one record.\n",
    "The variable exp is unique for every accident, so to answer this quetion we have to know the number of different exp in our dataset."
   ]
  },
  {
   "cell_type": "code",
   "execution_count": 10,
   "metadata": {},
   "outputs": [
    {
     "data": {
      "text/plain": [
       "21935"
      ]
     },
     "execution_count": 10,
     "metadata": {},
     "output_type": "execute_result"
    }
   ],
   "source": [
    "#number of accident ocurred during 2019\n",
    "df1 = df.drop_duplicates(subset=['exp'])\n",
    "df.drop_duplicates(subset=['exp']).shape[0]"
   ]
  },
  {
   "cell_type": "markdown",
   "metadata": {},
   "source": [
    "### Q1.3. - What is the average number of people involved in a traffic accident?"
   ]
  },
  {
   "cell_type": "markdown",
   "metadata": {},
   "source": [
    "On average, at least two people are affected in each accident"
   ]
  },
  {
   "cell_type": "code",
   "execution_count": 11,
   "metadata": {},
   "outputs": [
    {
     "data": {
      "text/plain": [
       "2.361796216093002"
      ]
     },
     "execution_count": 11,
     "metadata": {},
     "output_type": "execute_result"
    }
   ],
   "source": [
    "#Average number of people affected\n",
    "df.shape[0]/df1.shape[0]"
   ]
  },
  {
   "cell_type": "markdown",
   "metadata": {},
   "source": [
    "### Q2 - What day of the week are there the most accidents?"
   ]
  },
  {
   "cell_type": "markdown",
   "metadata": {},
   "source": [
    "Taking into account the number of files:\n",
    "\n",
    "**Friday** is the day with the highest number of accidents"
   ]
  },
  {
   "cell_type": "code",
   "execution_count": 12,
   "metadata": {},
   "outputs": [
    {
     "data": {
      "image/png": "[encoded data removed]",
      "text/plain": [
       "<Figure size 432x288 with 1 Axes>"
      ]
     },
     "metadata": {
      "needs_background": "light"
     },
     "output_type": "display_data"
    }
   ],
   "source": [
    "day_order = [\"Monday\", \"Tuesday\", \"Wednesday\", \"Thursday\", \"Friday\", \"Saturday\", \"Sunday\"]\n",
    "count_vals = df.day_of_week.value_counts()\n",
    "\n",
    "(count_vals/df.shape[0]).loc[day_order].plot(kind=\"bar\");\n",
    "plt.title(\"day_of_week\");"
   ]
  },
  {
   "cell_type": "markdown",
   "metadata": {},
   "source": [
    "Taking into account the number of files created by the police: \n",
    "\n",
    "**Friday** is the day with the highest number of accidents"
   ]
  },
  {
   "cell_type": "code",
   "execution_count": 13,
   "metadata": {},
   "outputs": [
    {
     "data": {
      "image/png": "[encoded data removed]",
      "text/plain": [
       "<Figure size 432x288 with 1 Axes>"
      ]
     },
     "metadata": {
      "needs_background": "light"
     },
     "output_type": "display_data"
    }
   ],
   "source": [
    "day_order = [\"Monday\", \"Tuesday\", \"Wednesday\", \"Thursday\", \"Friday\", \"Saturday\", \"Sunday\"]\n",
    "count_vals = df1.day_of_week.value_counts()\n",
    "\n",
    "(count_vals/df1.shape[0]).loc[day_order].plot(kind=\"bar\");\n",
    "plt.title(\"day_of_week\");"
   ]
  },
  {
   "cell_type": "markdown",
   "metadata": {},
   "source": [
    "### Q3 - What time do most accidents occur?"
   ]
  },
  {
   "cell_type": "markdown",
   "metadata": {},
   "source": [
    "Most claims occur **at 6 p.m.**, coinciding with time to **return** home from work or school.\n",
    "\n",
    "It is clear that the frequency increases at **8 and 9 a.m.** coinciding with the time to **go to work or school.**"
   ]
  },
  {
   "cell_type": "code",
   "execution_count": 14,
   "metadata": {},
   "outputs": [
    {
     "data": {
      "image/png": "[encoded data removed]",
      "text/plain": [
       "<Figure size 432x288 with 1 Axes>"
      ]
     },
     "metadata": {
      "needs_background": "light"
     },
     "output_type": "display_data"
    }
   ],
   "source": [
    "count_vals = df1.hour.value_counts().sort_index()\n",
    "\n",
    "(count_vals/df1.shape[0]).plot(kind=\"bar\");\n",
    "plt.title(\"Hour\");"
   ]
  },
  {
   "cell_type": "markdown",
   "metadata": {},
   "source": [
    "#### Does the pattern change over the weekend?"
   ]
  },
  {
   "cell_type": "code",
   "execution_count": 15,
   "metadata": {},
   "outputs": [],
   "source": [
    "#code to create a dataframe with the week involved in accidents \n",
    "#I will consider Friday as part of the weekend, because is when the party stars\n",
    "df_week = df[df['day_of_week'].isin([\"Monday\", \"Tuesday\", \"Wednesday\", \"Thursday\"])]\n",
    "\n",
    "# % of the total people involved in an accident by hour  \n",
    "dd=(df_week.hour.value_counts().sort_index()/df_week.shape[0]*100).rename_axis('hour').reset_index(name='perc_week')\n",
    "dd.set_index('hour', inplace=True)"
   ]
  },
  {
   "cell_type": "code",
   "execution_count": 16,
   "metadata": {},
   "outputs": [],
   "source": [
    "#code to create a dataframe with the week involved in accidents \n",
    "df_weekend = df[df['day_of_week'].isin([\"Friday\", \"Saturday\", \"Sunday\"])]\n",
    "dd2=(df_weekend.hour.value_counts().sort_index()/df_weekend.shape[0]*100).rename_axis('hour').reset_index(name='perc_weekend')\n",
    "dd2.set_index('hour', inplace=True)"
   ]
  },
  {
   "cell_type": "markdown",
   "metadata": {},
   "source": [
    "Clearly, accident hours change over the weekend.\n",
    "\n",
    "Accidents increase during party hours which is from 10 p.m. until 6 a.m."
   ]
  },
  {
   "cell_type": "code",
   "execution_count": 17,
   "metadata": {},
   "outputs": [
    {
     "data": {
      "text/plain": [
       "<matplotlib.axes._subplots.AxesSubplot at 0x24caf916198>"
      ]
     },
     "execution_count": 17,
     "metadata": {},
     "output_type": "execute_result"
    },
    {
     "data": {
      "image/png": "[encoded data removed]",
      "text/plain": [
       "<Figure size 432x288 with 1 Axes>"
      ]
     },
     "metadata": {
      "needs_background": "light"
     },
     "output_type": "display_data"
    }
   ],
   "source": [
    "comp_df = pd.merge(dd, dd2, left_index=True, right_index=True)\n",
    "comp_df.plot.bar(rot=0)"
   ]
  },
  {
   "cell_type": "markdown",
   "metadata": {},
   "source": [
    "#### How much the pattern change over the weekend?"
   ]
  },
  {
   "cell_type": "markdown",
   "metadata": {},
   "source": [
    "The number of people affected by accidents drops 50% at 9 a.m.\n",
    "\n",
    "On the other hand, at 4 a.m. the number of people affected by accidents increases by 232%"
   ]
  },
  {
   "cell_type": "code",
   "execution_count": 18,
   "metadata": {},
   "outputs": [
    {
     "data": {
      "text/html": [
       "<style  type=\"text/css\" >\n",
       "    #T_33fa8074_3f0a_11eb_8fb5_e4f89ccea7b0row0_col2 {\n",
       "            width:  10em;\n",
       "             height:  80%;\n",
       "            background:  linear-gradient(90deg, transparent 17.8%, #5fba7d 17.8%, #5fba7d 56.3%, transparent 56.3%);\n",
       "        }    #T_33fa8074_3f0a_11eb_8fb5_e4f89ccea7b0row1_col2 {\n",
       "            width:  10em;\n",
       "             height:  80%;\n",
       "            background:  linear-gradient(90deg, transparent 17.8%, #5fba7d 17.8%, #5fba7d 84.7%, transparent 84.7%);\n",
       "        }    #T_33fa8074_3f0a_11eb_8fb5_e4f89ccea7b0row2_col2 {\n",
       "            width:  10em;\n",
       "             height:  80%;\n",
       "            background:  linear-gradient(90deg, transparent 17.8%, #5fba7d 17.8%, #5fba7d 66.9%, transparent 66.9%);\n",
       "        }    #T_33fa8074_3f0a_11eb_8fb5_e4f89ccea7b0row3_col2 {\n",
       "            width:  10em;\n",
       "             height:  80%;\n",
       "            background:  linear-gradient(90deg, transparent 17.8%, #5fba7d 17.8%, #5fba7d 85.3%, transparent 85.3%);\n",
       "        }    #T_33fa8074_3f0a_11eb_8fb5_e4f89ccea7b0row4_col2 {\n",
       "            width:  10em;\n",
       "             height:  80%;\n",
       "            background:  linear-gradient(90deg, transparent 17.8%, #5fba7d 17.8%, #5fba7d 100.0%, transparent 100.0%);\n",
       "        }    #T_33fa8074_3f0a_11eb_8fb5_e4f89ccea7b0row5_col2 {\n",
       "            width:  10em;\n",
       "             height:  80%;\n",
       "            background:  linear-gradient(90deg, transparent 17.8%, #5fba7d 17.8%, #5fba7d 88.6%, transparent 88.6%);\n",
       "        }    #T_33fa8074_3f0a_11eb_8fb5_e4f89ccea7b0row6_col2 {\n",
       "            width:  10em;\n",
       "             height:  80%;\n",
       "            background:  linear-gradient(90deg, transparent 17.8%, #5fba7d 17.8%, #5fba7d 64.5%, transparent 64.5%);\n",
       "        }    #T_33fa8074_3f0a_11eb_8fb5_e4f89ccea7b0row7_col2 {\n",
       "            width:  10em;\n",
       "             height:  80%;\n",
       "            background:  linear-gradient(90deg, transparent 13.9%, #d65f5f 13.9%, #d65f5f 17.8%, transparent 17.8%);\n",
       "        }    #T_33fa8074_3f0a_11eb_8fb5_e4f89ccea7b0row8_col2 {\n",
       "            width:  10em;\n",
       "             height:  80%;\n",
       "            background:  linear-gradient(90deg, transparent 2.4%, #d65f5f 2.4%, #d65f5f 17.8%, transparent 17.8%);\n",
       "        }    #T_33fa8074_3f0a_11eb_8fb5_e4f89ccea7b0row9_col2 {\n",
       "            width:  10em;\n",
       "             height:  80%;\n",
       "            background:  linear-gradient(90deg,#d65f5f 17.8%, transparent 17.8%);\n",
       "        }    #T_33fa8074_3f0a_11eb_8fb5_e4f89ccea7b0row10_col2 {\n",
       "            width:  10em;\n",
       "             height:  80%;\n",
       "            background:  linear-gradient(90deg, transparent 7.2%, #d65f5f 7.2%, #d65f5f 17.8%, transparent 17.8%);\n",
       "        }    #T_33fa8074_3f0a_11eb_8fb5_e4f89ccea7b0row11_col2 {\n",
       "            width:  10em;\n",
       "             height:  80%;\n",
       "            background:  linear-gradient(90deg, transparent 12.1%, #d65f5f 12.1%, #d65f5f 17.8%, transparent 17.8%);\n",
       "        }    #T_33fa8074_3f0a_11eb_8fb5_e4f89ccea7b0row12_col2 {\n",
       "            width:  10em;\n",
       "             height:  80%;\n",
       "            background:  linear-gradient(90deg, transparent 17.4%, #d65f5f 17.4%, #d65f5f 17.8%, transparent 17.8%);\n",
       "        }    #T_33fa8074_3f0a_11eb_8fb5_e4f89ccea7b0row13_col2 {\n",
       "            width:  10em;\n",
       "             height:  80%;\n",
       "            background:  linear-gradient(90deg, transparent 17.5%, #d65f5f 17.5%, #d65f5f 17.8%, transparent 17.8%);\n",
       "        }    #T_33fa8074_3f0a_11eb_8fb5_e4f89ccea7b0row14_col2 {\n",
       "            width:  10em;\n",
       "             height:  80%;\n",
       "            background:  linear-gradient(90deg, transparent 17.8%, #5fba7d 17.8%, #5fba7d 21.5%, transparent 21.5%);\n",
       "        }    #T_33fa8074_3f0a_11eb_8fb5_e4f89ccea7b0row15_col2 {\n",
       "            width:  10em;\n",
       "             height:  80%;\n",
       "            background:  linear-gradient(90deg, transparent 16.0%, #d65f5f 16.0%, #d65f5f 17.8%, transparent 17.8%);\n",
       "        }    #T_33fa8074_3f0a_11eb_8fb5_e4f89ccea7b0row16_col2 {\n",
       "            width:  10em;\n",
       "             height:  80%;\n",
       "            background:  linear-gradient(90deg, transparent 16.0%, #d65f5f 16.0%, #d65f5f 17.8%, transparent 17.8%);\n",
       "        }    #T_33fa8074_3f0a_11eb_8fb5_e4f89ccea7b0row17_col2 {\n",
       "            width:  10em;\n",
       "             height:  80%;\n",
       "            background:  linear-gradient(90deg, transparent 12.3%, #d65f5f 12.3%, #d65f5f 17.8%, transparent 17.8%);\n",
       "        }    #T_33fa8074_3f0a_11eb_8fb5_e4f89ccea7b0row18_col2 {\n",
       "            width:  10em;\n",
       "             height:  80%;\n",
       "            background:  linear-gradient(90deg, transparent 9.8%, #d65f5f 9.8%, #d65f5f 17.8%, transparent 17.8%);\n",
       "        }    #T_33fa8074_3f0a_11eb_8fb5_e4f89ccea7b0row19_col2 {\n",
       "            width:  10em;\n",
       "             height:  80%;\n",
       "            background:  linear-gradient(90deg, transparent 7.2%, #d65f5f 7.2%, #d65f5f 17.8%, transparent 17.8%);\n",
       "        }    #T_33fa8074_3f0a_11eb_8fb5_e4f89ccea7b0row20_col2 {\n",
       "            width:  10em;\n",
       "             height:  80%;\n",
       "            background:  linear-gradient(90deg, transparent 14.9%, #d65f5f 14.9%, #d65f5f 17.8%, transparent 17.8%);\n",
       "        }    #T_33fa8074_3f0a_11eb_8fb5_e4f89ccea7b0row21_col2 {\n",
       "            width:  10em;\n",
       "             height:  80%;\n",
       "            background:  linear-gradient(90deg, transparent 17.8%, #5fba7d 17.8%, #5fba7d 23.8%, transparent 23.8%);\n",
       "        }    #T_33fa8074_3f0a_11eb_8fb5_e4f89ccea7b0row22_col2 {\n",
       "            width:  10em;\n",
       "             height:  80%;\n",
       "            background:  linear-gradient(90deg, transparent 17.8%, #5fba7d 17.8%, #5fba7d 38.3%, transparent 38.3%);\n",
       "        }    #T_33fa8074_3f0a_11eb_8fb5_e4f89ccea7b0row23_col2 {\n",
       "            width:  10em;\n",
       "             height:  80%;\n",
       "            background:  linear-gradient(90deg, transparent 17.8%, #5fba7d 17.8%, #5fba7d 39.6%, transparent 39.6%);\n",
       "        }</style><table id=\"T_33fa8074_3f0a_11eb_8fb5_e4f89ccea7b0\" ><thead>    <tr>        <th class=\"blank level0\" ></th>        <th class=\"col_heading level0 col0\" >perc_week</th>        <th class=\"col_heading level0 col1\" >perc_weekend</th>        <th class=\"col_heading level0 col2\" >Diff_perc_point</th>    </tr>    <tr>        <th class=\"index_name level0\" >hour</th>        <th class=\"blank\" ></th>        <th class=\"blank\" ></th>        <th class=\"blank\" ></th>    </tr></thead><tbody>\n",
       "                <tr>\n",
       "                        <th id=\"T_33fa8074_3f0a_11eb_8fb5_e4f89ccea7b0level0_row0\" class=\"row_heading level0 row0\" >0</th>\n",
       "                        <td id=\"T_33fa8074_3f0a_11eb_8fb5_e4f89ccea7b0row0_col0\" class=\"data row0 col0\" >1.60819</td>\n",
       "                        <td id=\"T_33fa8074_3f0a_11eb_8fb5_e4f89ccea7b0row0_col1\" class=\"data row0 col1\" >3.36036</td>\n",
       "                        <td id=\"T_33fa8074_3f0a_11eb_8fb5_e4f89ccea7b0row0_col2\" class=\"data row0 col2\" >1.08953</td>\n",
       "            </tr>\n",
       "            <tr>\n",
       "                        <th id=\"T_33fa8074_3f0a_11eb_8fb5_e4f89ccea7b0level0_row1\" class=\"row_heading level0 row1\" >1</th>\n",
       "                        <td id=\"T_33fa8074_3f0a_11eb_8fb5_e4f89ccea7b0row1_col0\" class=\"data row1 col0\" >0.918967</td>\n",
       "                        <td id=\"T_33fa8074_3f0a_11eb_8fb5_e4f89ccea7b0row1_col1\" class=\"data row1 col1\" >2.66204</td>\n",
       "                        <td id=\"T_33fa8074_3f0a_11eb_8fb5_e4f89ccea7b0row1_col2\" class=\"data row1 col2\" >1.89678</td>\n",
       "            </tr>\n",
       "            <tr>\n",
       "                        <th id=\"T_33fa8074_3f0a_11eb_8fb5_e4f89ccea7b0level0_row2\" class=\"row_heading level0 row2\" >2</th>\n",
       "                        <td id=\"T_33fa8074_3f0a_11eb_8fb5_e4f89ccea7b0row2_col0\" class=\"data row2 col0\" >0.955069</td>\n",
       "                        <td id=\"T_33fa8074_3f0a_11eb_8fb5_e4f89ccea7b0row2_col1\" class=\"data row2 col1\" >2.28242</td>\n",
       "                        <td id=\"T_33fa8074_3f0a_11eb_8fb5_e4f89ccea7b0row2_col2\" class=\"data row2 col2\" >1.3898</td>\n",
       "            </tr>\n",
       "            <tr>\n",
       "                        <th id=\"T_33fa8074_3f0a_11eb_8fb5_e4f89ccea7b0level0_row3\" class=\"row_heading level0 row3\" >3</th>\n",
       "                        <td id=\"T_33fa8074_3f0a_11eb_8fb5_e4f89ccea7b0row3_col0\" class=\"data row3 col0\" >0.662969</td>\n",
       "                        <td id=\"T_33fa8074_3f0a_11eb_8fb5_e4f89ccea7b0row3_col1\" class=\"data row3 col1\" >1.93092</td>\n",
       "                        <td id=\"T_33fa8074_3f0a_11eb_8fb5_e4f89ccea7b0row3_col2\" class=\"data row3 col2\" >1.91253</td>\n",
       "            </tr>\n",
       "            <tr>\n",
       "                        <th id=\"T_33fa8074_3f0a_11eb_8fb5_e4f89ccea7b0level0_row4\" class=\"row_heading level0 row4\" >4</th>\n",
       "                        <td id=\"T_33fa8074_3f0a_11eb_8fb5_e4f89ccea7b0row4_col0\" class=\"data row4 col0\" >0.515278</td>\n",
       "                        <td id=\"T_33fa8074_3f0a_11eb_8fb5_e4f89ccea7b0row4_col1\" class=\"data row4 col1\" >1.71533</td>\n",
       "                        <td id=\"T_33fa8074_3f0a_11eb_8fb5_e4f89ccea7b0row4_col2\" class=\"data row4 col2\" >2.32894</td>\n",
       "            </tr>\n",
       "            <tr>\n",
       "                        <th id=\"T_33fa8074_3f0a_11eb_8fb5_e4f89ccea7b0level0_row5\" class=\"row_heading level0 row5\" >5</th>\n",
       "                        <td id=\"T_33fa8074_3f0a_11eb_8fb5_e4f89ccea7b0row5_col0\" class=\"data row5 col0\" >0.623585</td>\n",
       "                        <td id=\"T_33fa8074_3f0a_11eb_8fb5_e4f89ccea7b0row5_col1\" class=\"data row5 col1\" >1.87468</td>\n",
       "                        <td id=\"T_33fa8074_3f0a_11eb_8fb5_e4f89ccea7b0row5_col2\" class=\"data row5 col2\" >2.00629</td>\n",
       "            </tr>\n",
       "            <tr>\n",
       "                        <th id=\"T_33fa8074_3f0a_11eb_8fb5_e4f89ccea7b0level0_row6\" class=\"row_heading level0 row6\" >6</th>\n",
       "                        <td id=\"T_33fa8074_3f0a_11eb_8fb5_e4f89ccea7b0row6_col0\" class=\"data row6 col0\" >1.05681</td>\n",
       "                        <td id=\"T_33fa8074_3f0a_11eb_8fb5_e4f89ccea7b0row6_col1\" class=\"data row6 col1\" >2.45583</td>\n",
       "                        <td id=\"T_33fa8074_3f0a_11eb_8fb5_e4f89ccea7b0row6_col2\" class=\"data row6 col2\" >1.32381</td>\n",
       "            </tr>\n",
       "            <tr>\n",
       "                        <th id=\"T_33fa8074_3f0a_11eb_8fb5_e4f89ccea7b0level0_row7\" class=\"row_heading level0 row7\" >7</th>\n",
       "                        <td id=\"T_33fa8074_3f0a_11eb_8fb5_e4f89ccea7b0row7_col0\" class=\"data row7 col0\" >3.02274</td>\n",
       "                        <td id=\"T_33fa8074_3f0a_11eb_8fb5_e4f89ccea7b0row7_col1\" class=\"data row7 col1\" >2.68548</td>\n",
       "                        <td id=\"T_33fa8074_3f0a_11eb_8fb5_e4f89ccea7b0row7_col2\" class=\"data row7 col2\" >-0.111577</td>\n",
       "            </tr>\n",
       "            <tr>\n",
       "                        <th id=\"T_33fa8074_3f0a_11eb_8fb5_e4f89ccea7b0level0_row8\" class=\"row_heading level0 row8\" >8</th>\n",
       "                        <td id=\"T_33fa8074_3f0a_11eb_8fb5_e4f89ccea7b0row8_col0\" class=\"data row8 col0\" >5.79606</td>\n",
       "                        <td id=\"T_33fa8074_3f0a_11eb_8fb5_e4f89ccea7b0row8_col1\" class=\"data row8 col1\" >3.26194</td>\n",
       "                        <td id=\"T_33fa8074_3f0a_11eb_8fb5_e4f89ccea7b0row8_col2\" class=\"data row8 col2\" >-0.437214</td>\n",
       "            </tr>\n",
       "            <tr>\n",
       "                        <th id=\"T_33fa8074_3f0a_11eb_8fb5_e4f89ccea7b0level0_row9\" class=\"row_heading level0 row9\" >9</th>\n",
       "                        <td id=\"T_33fa8074_3f0a_11eb_8fb5_e4f89ccea7b0row9_col0\" class=\"data row9 col0\" >6.62313</td>\n",
       "                        <td id=\"T_33fa8074_3f0a_11eb_8fb5_e4f89ccea7b0row9_col1\" class=\"data row9 col1\" >3.28069</td>\n",
       "                        <td id=\"T_33fa8074_3f0a_11eb_8fb5_e4f89ccea7b0row9_col2\" class=\"data row9 col2\" >-0.504662</td>\n",
       "            </tr>\n",
       "            <tr>\n",
       "                        <th id=\"T_33fa8074_3f0a_11eb_8fb5_e4f89ccea7b0level0_row10\" class=\"row_heading level0 row10\" >10</th>\n",
       "                        <td id=\"T_33fa8074_3f0a_11eb_8fb5_e4f89ccea7b0row10_col0\" class=\"data row10 col0\" >4.75237</td>\n",
       "                        <td id=\"T_33fa8074_3f0a_11eb_8fb5_e4f89ccea7b0row10_col1\" class=\"data row10 col1\" >3.32755</td>\n",
       "                        <td id=\"T_33fa8074_3f0a_11eb_8fb5_e4f89ccea7b0row10_col2\" class=\"data row10 col2\" >-0.299812</td>\n",
       "            </tr>\n",
       "            <tr>\n",
       "                        <th id=\"T_33fa8074_3f0a_11eb_8fb5_e4f89ccea7b0level0_row11\" class=\"row_heading level0 row11\" >11</th>\n",
       "                        <td id=\"T_33fa8074_3f0a_11eb_8fb5_e4f89ccea7b0row11_col0\" class=\"data row11 col0\" >4.50294</td>\n",
       "                        <td id=\"T_33fa8074_3f0a_11eb_8fb5_e4f89ccea7b0row11_col1\" class=\"data row11 col1\" >3.7681</td>\n",
       "                        <td id=\"T_33fa8074_3f0a_11eb_8fb5_e4f89ccea7b0row11_col2\" class=\"data row11 col2\" >-0.16319</td>\n",
       "            </tr>\n",
       "            <tr>\n",
       "                        <th id=\"T_33fa8074_3f0a_11eb_8fb5_e4f89ccea7b0level0_row12\" class=\"row_heading level0 row12\" >12</th>\n",
       "                        <td id=\"T_33fa8074_3f0a_11eb_8fb5_e4f89ccea7b0row12_col0\" class=\"data row12 col0\" >5.10683</td>\n",
       "                        <td id=\"T_33fa8074_3f0a_11eb_8fb5_e4f89ccea7b0row12_col1\" class=\"data row12 col1\" >5.05226</td>\n",
       "                        <td id=\"T_33fa8074_3f0a_11eb_8fb5_e4f89ccea7b0row12_col2\" class=\"data row12 col2\" >-0.0106863</td>\n",
       "            </tr>\n",
       "            <tr>\n",
       "                        <th id=\"T_33fa8074_3f0a_11eb_8fb5_e4f89ccea7b0level0_row13\" class=\"row_heading level0 row13\" >13</th>\n",
       "                        <td id=\"T_33fa8074_3f0a_11eb_8fb5_e4f89ccea7b0row13_col0\" class=\"data row13 col0\" >5.63524</td>\n",
       "                        <td id=\"T_33fa8074_3f0a_11eb_8fb5_e4f89ccea7b0row13_col1\" class=\"data row13 col1\" >5.59123</td>\n",
       "                        <td id=\"T_33fa8074_3f0a_11eb_8fb5_e4f89ccea7b0row13_col2\" class=\"data row13 col2\" >-0.00780967</td>\n",
       "            </tr>\n",
       "            <tr>\n",
       "                        <th id=\"T_33fa8074_3f0a_11eb_8fb5_e4f89ccea7b0level0_row14\" class=\"row_heading level0 row14\" >14</th>\n",
       "                        <td id=\"T_33fa8074_3f0a_11eb_8fb5_e4f89ccea7b0row14_col0\" class=\"data row14 col0\" >6.34415</td>\n",
       "                        <td id=\"T_33fa8074_3f0a_11eb_8fb5_e4f89ccea7b0row14_col1\" class=\"data row14 col1\" >7.00192</td>\n",
       "                        <td id=\"T_33fa8074_3f0a_11eb_8fb5_e4f89ccea7b0row14_col2\" class=\"data row14 col2\" >0.103681</td>\n",
       "            </tr>\n",
       "            <tr>\n",
       "                        <th id=\"T_33fa8074_3f0a_11eb_8fb5_e4f89ccea7b0level0_row15\" class=\"row_heading level0 row15\" >15</th>\n",
       "                        <td id=\"T_33fa8074_3f0a_11eb_8fb5_e4f89ccea7b0row15_col0\" class=\"data row15 col0\" >5.75011</td>\n",
       "                        <td id=\"T_33fa8074_3f0a_11eb_8fb5_e4f89ccea7b0row15_col1\" class=\"data row15 col1\" >5.45531</td>\n",
       "                        <td id=\"T_33fa8074_3f0a_11eb_8fb5_e4f89ccea7b0row15_col2\" class=\"data row15 col2\" >-0.0512676</td>\n",
       "            </tr>\n",
       "            <tr>\n",
       "                        <th id=\"T_33fa8074_3f0a_11eb_8fb5_e4f89ccea7b0level0_row16\" class=\"row_heading level0 row16\" >16</th>\n",
       "                        <td id=\"T_33fa8074_3f0a_11eb_8fb5_e4f89ccea7b0row16_col0\" class=\"data row16 col0\" >6.36385</td>\n",
       "                        <td id=\"T_33fa8074_3f0a_11eb_8fb5_e4f89ccea7b0row16_col1\" class=\"data row16 col1\" >6.03646</td>\n",
       "                        <td id=\"T_33fa8074_3f0a_11eb_8fb5_e4f89ccea7b0row16_col2\" class=\"data row16 col2\" >-0.0514442</td>\n",
       "            </tr>\n",
       "            <tr>\n",
       "                        <th id=\"T_33fa8074_3f0a_11eb_8fb5_e4f89ccea7b0level0_row17\" class=\"row_heading level0 row17\" >17</th>\n",
       "                        <td id=\"T_33fa8074_3f0a_11eb_8fb5_e4f89ccea7b0row17_col0\" class=\"data row17 col0\" >6.67236</td>\n",
       "                        <td id=\"T_33fa8074_3f0a_11eb_8fb5_e4f89ccea7b0row17_col1\" class=\"data row17 col1\" >5.63809</td>\n",
       "                        <td id=\"T_33fa8074_3f0a_11eb_8fb5_e4f89ccea7b0row17_col2\" class=\"data row17 col2\" >-0.155007</td>\n",
       "            </tr>\n",
       "            <tr>\n",
       "                        <th id=\"T_33fa8074_3f0a_11eb_8fb5_e4f89ccea7b0level0_row18\" class=\"row_heading level0 row18\" >18</th>\n",
       "                        <td id=\"T_33fa8074_3f0a_11eb_8fb5_e4f89ccea7b0row18_col0\" class=\"data row18 col0\" >7.78824</td>\n",
       "                        <td id=\"T_33fa8074_3f0a_11eb_8fb5_e4f89ccea7b0row18_col1\" class=\"data row18 col1\" >6.01303</td>\n",
       "                        <td id=\"T_33fa8074_3f0a_11eb_8fb5_e4f89ccea7b0row18_col2\" class=\"data row18 col2\" >-0.227935</td>\n",
       "            </tr>\n",
       "            <tr>\n",
       "                        <th id=\"T_33fa8074_3f0a_11eb_8fb5_e4f89ccea7b0level0_row19\" class=\"row_heading level0 row19\" >19</th>\n",
       "                        <td id=\"T_33fa8074_3f0a_11eb_8fb5_e4f89ccea7b0row19_col0\" class=\"data row19 col0\" >7.83091</td>\n",
       "                        <td id=\"T_33fa8074_3f0a_11eb_8fb5_e4f89ccea7b0row19_col1\" class=\"data row19 col1\" >5.46937</td>\n",
       "                        <td id=\"T_33fa8074_3f0a_11eb_8fb5_e4f89ccea7b0row19_col2\" class=\"data row19 col2\" >-0.301566</td>\n",
       "            </tr>\n",
       "            <tr>\n",
       "                        <th id=\"T_33fa8074_3f0a_11eb_8fb5_e4f89ccea7b0level0_row20\" class=\"row_heading level0 row20\" >20</th>\n",
       "                        <td id=\"T_33fa8074_3f0a_11eb_8fb5_e4f89ccea7b0row20_col0\" class=\"data row20 col0\" >6.62641</td>\n",
       "                        <td id=\"T_33fa8074_3f0a_11eb_8fb5_e4f89ccea7b0row20_col1\" class=\"data row20 col1\" >6.08802</td>\n",
       "                        <td id=\"T_33fa8074_3f0a_11eb_8fb5_e4f89ccea7b0row20_col2\" class=\"data row20 col2\" >-0.0812493</td>\n",
       "            </tr>\n",
       "            <tr>\n",
       "                        <th id=\"T_33fa8074_3f0a_11eb_8fb5_e4f89ccea7b0level0_row21\" class=\"row_heading level0 row21\" >21</th>\n",
       "                        <td id=\"T_33fa8074_3f0a_11eb_8fb5_e4f89ccea7b0row21_col0\" class=\"data row21 col0\" >5.3136</td>\n",
       "                        <td id=\"T_33fa8074_3f0a_11eb_8fb5_e4f89ccea7b0row21_col1\" class=\"data row21 col1\" >6.21924</td>\n",
       "                        <td id=\"T_33fa8074_3f0a_11eb_8fb5_e4f89ccea7b0row21_col2\" class=\"data row21 col2\" >0.170439</td>\n",
       "            </tr>\n",
       "            <tr>\n",
       "                        <th id=\"T_33fa8074_3f0a_11eb_8fb5_e4f89ccea7b0level0_row22\" class=\"row_heading level0 row22\" >22</th>\n",
       "                        <td id=\"T_33fa8074_3f0a_11eb_8fb5_e4f89ccea7b0row22_col0\" class=\"data row22 col0\" >3.15403</td>\n",
       "                        <td id=\"T_33fa8074_3f0a_11eb_8fb5_e4f89ccea7b0row22_col1\" class=\"data row22 col1\" >4.98664</td>\n",
       "                        <td id=\"T_33fa8074_3f0a_11eb_8fb5_e4f89ccea7b0row22_col2\" class=\"data row22 col2\" >0.581041</td>\n",
       "            </tr>\n",
       "            <tr>\n",
       "                        <th id=\"T_33fa8074_3f0a_11eb_8fb5_e4f89ccea7b0level0_row23\" class=\"row_heading level0 row23\" >23</th>\n",
       "                        <td id=\"T_33fa8074_3f0a_11eb_8fb5_e4f89ccea7b0row23_col0\" class=\"data row23 col0\" >2.37619</td>\n",
       "                        <td id=\"T_33fa8074_3f0a_11eb_8fb5_e4f89ccea7b0row23_col1\" class=\"data row23 col1\" >3.84309</td>\n",
       "                        <td id=\"T_33fa8074_3f0a_11eb_8fb5_e4f89ccea7b0row23_col2\" class=\"data row23 col2\" >0.617336</td>\n",
       "            </tr>\n",
       "    </tbody></table>"
      ],
      "text/plain": [
       "<pandas.io.formats.style.Styler at 0x24caf942160>"
      ]
     },
     "execution_count": 18,
     "metadata": {},
     "output_type": "execute_result"
    }
   ],
   "source": [
    "comp_df = pd.merge(dd, dd2, left_index=True, right_index=True) # merge of the two database that I want to compare\n",
    "comp_df.columns = ['perc_week', 'perc_weekend']\n",
    "comp_df['Diff_perc_point'] = comp_df['perc_weekend'] / comp_df['perc_week']-1 #% of increase or decrease from week % \n",
    "comp_df.style.bar(subset=['Diff_perc_point'], align='mid', color=['#d65f5f', '#5fba7d'])"
   ]
  },
  {
   "cell_type": "markdown",
   "metadata": {},
   "source": [
    "### Q4 - At what age are more traffic accidents suffered?"
   ]
  },
  {
   "cell_type": "markdown",
   "metadata": {},
   "source": [
    "Continuing with the study we are going to separate the working hours from the party hours"
   ]
  },
  {
   "cell_type": "code",
   "execution_count": 19,
   "metadata": {},
   "outputs": [],
   "source": [
    "df_day = df[df['hour'].isin([7,8,9,10,11,12,13,14,15,16,17,18,19,20])] \n",
    "df_day = df_day[~df_day['age'].isin(['w.[Unknown]'])] \n",
    "dd=(df_day.age.value_counts().sort_index()/df_day.shape[0]*100).rename_axis('age').reset_index(name='perc_day')\n",
    "dd.set_index('age', inplace=True)"
   ]
  },
  {
   "cell_type": "code",
   "execution_count": 20,
   "metadata": {},
   "outputs": [],
   "source": [
    "df_party = df[df['hour'].isin([21,22,23,0,1,2,3,4,5,6])]\n",
    "df_party = df_party[~df_party['age'].isin(['w.[Unknown]'])]\n",
    "dd2=(df_party.age.value_counts().sort_index()/df_party.shape[0]*100).rename_axis('age').reset_index(name='perc_party')\n",
    "dd2.set_index('age', inplace=True)"
   ]
  },
  {
   "cell_type": "markdown",
   "metadata": {},
   "source": [
    "During the working hours, people between **40 and 44** years old are the ones who suffer the most traffic accidents\n",
    "\n",
    "During party hours, people between the ages of **25 and 29** suffer the most traffic accidents"
   ]
  },
  {
   "cell_type": "code",
   "execution_count": 21,
   "metadata": {},
   "outputs": [
    {
     "data": {
      "text/plain": [
       "<matplotlib.axes._subplots.AxesSubplot at 0x24cb11a7630>"
      ]
     },
     "execution_count": 21,
     "metadata": {},
     "output_type": "execute_result"
    },
    {
     "data": {
      "image/png": "[encoded data removed]",
      "text/plain": [
       "<Figure size 432x288 with 1 Axes>"
      ]
     },
     "metadata": {
      "needs_background": "light"
     },
     "output_type": "display_data"
    }
   ],
   "source": [
    "comp_df = pd.merge(dd, dd2, left_index=True, right_index=True)\n",
    "comp_df.plot.bar()"
   ]
  },
  {
   "cell_type": "markdown",
   "metadata": {},
   "source": [
    "#### How much the pattern change?"
   ]
  },
  {
   "cell_type": "markdown",
   "metadata": {},
   "source": [
    "The greatest increase is seen in those between **18 and 20** years old with an increase of 134%\n",
    "\n",
    "It is observed that the percentage of children between **6 and 9** years old decreases by 75%"
   ]
  },
  {
   "cell_type": "code",
   "execution_count": 22,
   "metadata": {},
   "outputs": [
    {
     "data": {
      "text/html": [
       "<style  type=\"text/css\" >\n",
       "    #T_3882654c_3f0a_11eb_a705_e4f89ccea7b0row0_col2 {\n",
       "            width:  10em;\n",
       "             height:  80%;\n",
       "            background:  linear-gradient(90deg, transparent 14.9%, #d65f5f 14.9%, #d65f5f 36.0%, transparent 36.0%);\n",
       "        }    #T_3882654c_3f0a_11eb_a705_e4f89ccea7b0row1_col2 {\n",
       "            width:  10em;\n",
       "             height:  80%;\n",
       "            background:  linear-gradient(90deg,#d65f5f 36.0%, transparent 36.0%);\n",
       "        }    #T_3882654c_3f0a_11eb_a705_e4f89ccea7b0row2_col2 {\n",
       "            width:  10em;\n",
       "             height:  80%;\n",
       "            background:  linear-gradient(90deg, transparent 20.9%, #d65f5f 20.9%, #d65f5f 36.0%, transparent 36.0%);\n",
       "        }    #T_3882654c_3f0a_11eb_a705_e4f89ccea7b0row3_col2 {\n",
       "            width:  10em;\n",
       "             height:  80%;\n",
       "            background:  linear-gradient(90deg, transparent 36.0%, #5fba7d 36.0%, #5fba7d 39.0%, transparent 39.0%);\n",
       "        }    #T_3882654c_3f0a_11eb_a705_e4f89ccea7b0row4_col2 {\n",
       "            width:  10em;\n",
       "             height:  80%;\n",
       "            background:  linear-gradient(90deg, transparent 36.0%, #5fba7d 36.0%, #5fba7d 100.0%, transparent 100.0%);\n",
       "        }    #T_3882654c_3f0a_11eb_a705_e4f89ccea7b0row5_col2 {\n",
       "            width:  10em;\n",
       "             height:  80%;\n",
       "            background:  linear-gradient(90deg, transparent 36.0%, #5fba7d 36.0%, #5fba7d 86.7%, transparent 86.7%);\n",
       "        }    #T_3882654c_3f0a_11eb_a705_e4f89ccea7b0row6_col2 {\n",
       "            width:  10em;\n",
       "             height:  80%;\n",
       "            background:  linear-gradient(90deg, transparent 36.0%, #5fba7d 36.0%, #5fba7d 55.3%, transparent 55.3%);\n",
       "        }    #T_3882654c_3f0a_11eb_a705_e4f89ccea7b0row7_col2 {\n",
       "            width:  10em;\n",
       "             height:  80%;\n",
       "            background:  linear-gradient(90deg, transparent 36.0%, #5fba7d 36.0%, #5fba7d 45.4%, transparent 45.4%);\n",
       "        }    #T_3882654c_3f0a_11eb_a705_e4f89ccea7b0row8_col2 {\n",
       "            width:  10em;\n",
       "             height:  80%;\n",
       "            background:  linear-gradient(90deg, transparent 34.4%, #d65f5f 34.4%, #d65f5f 36.0%, transparent 36.0%);\n",
       "        }    #T_3882654c_3f0a_11eb_a705_e4f89ccea7b0row9_col2 {\n",
       "            width:  10em;\n",
       "             height:  80%;\n",
       "            background:  linear-gradient(90deg, transparent 26.7%, #d65f5f 26.7%, #d65f5f 36.0%, transparent 36.0%);\n",
       "        }    #T_3882654c_3f0a_11eb_a705_e4f89ccea7b0row10_col2 {\n",
       "            width:  10em;\n",
       "             height:  80%;\n",
       "            background:  linear-gradient(90deg, transparent 23.8%, #d65f5f 23.8%, #d65f5f 36.0%, transparent 36.0%);\n",
       "        }    #T_3882654c_3f0a_11eb_a705_e4f89ccea7b0row11_col2 {\n",
       "            width:  10em;\n",
       "             height:  80%;\n",
       "            background:  linear-gradient(90deg, transparent 29.0%, #d65f5f 29.0%, #d65f5f 36.0%, transparent 36.0%);\n",
       "        }    #T_3882654c_3f0a_11eb_a705_e4f89ccea7b0row12_col2 {\n",
       "            width:  10em;\n",
       "             height:  80%;\n",
       "            background:  linear-gradient(90deg, transparent 21.0%, #d65f5f 21.0%, #d65f5f 36.0%, transparent 36.0%);\n",
       "        }    #T_3882654c_3f0a_11eb_a705_e4f89ccea7b0row13_col2 {\n",
       "            width:  10em;\n",
       "             height:  80%;\n",
       "            background:  linear-gradient(90deg, transparent 22.3%, #d65f5f 22.3%, #d65f5f 36.0%, transparent 36.0%);\n",
       "        }    #T_3882654c_3f0a_11eb_a705_e4f89ccea7b0row14_col2 {\n",
       "            width:  10em;\n",
       "             height:  80%;\n",
       "            background:  linear-gradient(90deg, transparent 16.9%, #d65f5f 16.9%, #d65f5f 36.0%, transparent 36.0%);\n",
       "        }    #T_3882654c_3f0a_11eb_a705_e4f89ccea7b0row15_col2 {\n",
       "            width:  10em;\n",
       "             height:  80%;\n",
       "            background:  linear-gradient(90deg, transparent 13.1%, #d65f5f 13.1%, #d65f5f 36.0%, transparent 36.0%);\n",
       "        }    #T_3882654c_3f0a_11eb_a705_e4f89ccea7b0row16_col2 {\n",
       "            width:  10em;\n",
       "             height:  80%;\n",
       "            background:  linear-gradient(90deg, transparent 4.0%, #d65f5f 4.0%, #d65f5f 36.0%, transparent 36.0%);\n",
       "        }</style><table id=\"T_3882654c_3f0a_11eb_a705_e4f89ccea7b0\" ><thead>    <tr>        <th class=\"blank level0\" ></th>        <th class=\"col_heading level0 col0\" >perc_day</th>        <th class=\"col_heading level0 col1\" >perc_party</th>        <th class=\"col_heading level0 col2\" >Diff_perc_point</th>    </tr>    <tr>        <th class=\"index_name level0\" >age</th>        <th class=\"blank\" ></th>        <th class=\"blank\" ></th>        <th class=\"blank\" ></th>    </tr></thead><tbody>\n",
       "                <tr>\n",
       "                        <th id=\"T_3882654c_3f0a_11eb_a705_e4f89ccea7b0level0_row0\" class=\"row_heading level0 row0\" >a.[0,5]</th>\n",
       "                        <td id=\"T_3882654c_3f0a_11eb_a705_e4f89ccea7b0row0_col0\" class=\"data row0 col0\" >1.23653</td>\n",
       "                        <td id=\"T_3882654c_3f0a_11eb_a705_e4f89ccea7b0row0_col1\" class=\"data row0 col1\" >0.685553</td>\n",
       "                        <td id=\"T_3882654c_3f0a_11eb_a705_e4f89ccea7b0row0_col2\" class=\"data row0 col2\" >-0.445582</td>\n",
       "            </tr>\n",
       "            <tr>\n",
       "                        <th id=\"T_3882654c_3f0a_11eb_a705_e4f89ccea7b0level0_row1\" class=\"row_heading level0 row1\" >b.[6,9]</th>\n",
       "                        <td id=\"T_3882654c_3f0a_11eb_a705_e4f89ccea7b0row1_col0\" class=\"data row1 col0\" >0.962959</td>\n",
       "                        <td id=\"T_3882654c_3f0a_11eb_a705_e4f89ccea7b0row1_col1\" class=\"data row1 col1\" >0.231878</td>\n",
       "                        <td id=\"T_3882654c_3f0a_11eb_a705_e4f89ccea7b0row1_col2\" class=\"data row1 col2\" >-0.759202</td>\n",
       "            </tr>\n",
       "            <tr>\n",
       "                        <th id=\"T_3882654c_3f0a_11eb_a705_e4f89ccea7b0level0_row2\" class=\"row_heading level0 row2\" >c.[10,14]</th>\n",
       "                        <td id=\"T_3882654c_3f0a_11eb_a705_e4f89ccea7b0row2_col0\" class=\"data row2 col0\" >1.13804</td>\n",
       "                        <td id=\"T_3882654c_3f0a_11eb_a705_e4f89ccea7b0row2_col1\" class=\"data row2 col1\" >0.776288</td>\n",
       "                        <td id=\"T_3882654c_3f0a_11eb_a705_e4f89ccea7b0row2_col2\" class=\"data row2 col2\" >-0.317874</td>\n",
       "            </tr>\n",
       "            <tr>\n",
       "                        <th id=\"T_3882654c_3f0a_11eb_a705_e4f89ccea7b0level0_row3\" class=\"row_heading level0 row3\" >d.[15,17]</th>\n",
       "                        <td id=\"T_3882654c_3f0a_11eb_a705_e4f89ccea7b0row3_col0\" class=\"data row3 col0\" >0.730426</td>\n",
       "                        <td id=\"T_3882654c_3f0a_11eb_a705_e4f89ccea7b0row3_col1\" class=\"data row3 col1\" >0.776288</td>\n",
       "                        <td id=\"T_3882654c_3f0a_11eb_a705_e4f89ccea7b0row3_col2\" class=\"data row3 col2\" >0.0627876</td>\n",
       "            </tr>\n",
       "            <tr>\n",
       "                        <th id=\"T_3882654c_3f0a_11eb_a705_e4f89ccea7b0level0_row4\" class=\"row_heading level0 row4\" >e.[18,20]</th>\n",
       "                        <td id=\"T_3882654c_3f0a_11eb_a705_e4f89ccea7b0row4_col0\" class=\"data row4 col0\" >2.56333</td>\n",
       "                        <td id=\"T_3882654c_3f0a_11eb_a705_e4f89ccea7b0row4_col1\" class=\"data row4 col1\" >6.01875</td>\n",
       "                        <td id=\"T_3882654c_3f0a_11eb_a705_e4f89ccea7b0row4_col2\" class=\"data row4 col2\" >1.34802</td>\n",
       "            </tr>\n",
       "            <tr>\n",
       "                        <th id=\"T_3882654c_3f0a_11eb_a705_e4f89ccea7b0level0_row5\" class=\"row_heading level0 row5\" >f.[21,24]</th>\n",
       "                        <td id=\"T_3882654c_3f0a_11eb_a705_e4f89ccea7b0row5_col0\" class=\"data row5 col0\" >5.87077</td>\n",
       "                        <td id=\"T_3882654c_3f0a_11eb_a705_e4f89ccea7b0row5_col1\" class=\"data row5 col1\" >12.1383</td>\n",
       "                        <td id=\"T_3882654c_3f0a_11eb_a705_e4f89ccea7b0row5_col2\" class=\"data row5 col2\" >1.06759</td>\n",
       "            </tr>\n",
       "            <tr>\n",
       "                        <th id=\"T_3882654c_3f0a_11eb_a705_e4f89ccea7b0level0_row6\" class=\"row_heading level0 row6\" >g.[25,29]</th>\n",
       "                        <td id=\"T_3882654c_3f0a_11eb_a705_e4f89ccea7b0row6_col0\" class=\"data row6 col0\" >11.1069</td>\n",
       "                        <td id=\"T_3882654c_3f0a_11eb_a705_e4f89ccea7b0row6_col1\" class=\"data row6 col1\" >15.6266</td>\n",
       "                        <td id=\"T_3882654c_3f0a_11eb_a705_e4f89ccea7b0row6_col2\" class=\"data row6 col2\" >0.406931</td>\n",
       "            </tr>\n",
       "            <tr>\n",
       "                        <th id=\"T_3882654c_3f0a_11eb_a705_e4f89ccea7b0level0_row7\" class=\"row_heading level0 row7\" >h.[30,34]</th>\n",
       "                        <td id=\"T_3882654c_3f0a_11eb_a705_e4f89ccea7b0row7_col0\" class=\"data row7 col0\" >11.2792</td>\n",
       "                        <td id=\"T_3882654c_3f0a_11eb_a705_e4f89ccea7b0row7_col1\" class=\"data row7 col1\" >13.5094</td>\n",
       "                        <td id=\"T_3882654c_3f0a_11eb_a705_e4f89ccea7b0row7_col2\" class=\"data row7 col2\" >0.197729</td>\n",
       "            </tr>\n",
       "            <tr>\n",
       "                        <th id=\"T_3882654c_3f0a_11eb_a705_e4f89ccea7b0level0_row8\" class=\"row_heading level0 row8\" >i.[35,39]</th>\n",
       "                        <td id=\"T_3882654c_3f0a_11eb_a705_e4f89ccea7b0row8_col0\" class=\"data row8 col0\" >12.0808</td>\n",
       "                        <td id=\"T_3882654c_3f0a_11eb_a705_e4f89ccea7b0row8_col1\" class=\"data row8 col1\" >11.6645</td>\n",
       "                        <td id=\"T_3882654c_3f0a_11eb_a705_e4f89ccea7b0row8_col2\" class=\"data row8 col2\" >-0.0344577</td>\n",
       "            </tr>\n",
       "            <tr>\n",
       "                        <th id=\"T_3882654c_3f0a_11eb_a705_e4f89ccea7b0level0_row9\" class=\"row_heading level0 row9\" >j.[40,44]</th>\n",
       "                        <td id=\"T_3882654c_3f0a_11eb_a705_e4f89ccea7b0row9_col0\" class=\"data row9 col0\" >12.885</td>\n",
       "                        <td id=\"T_3882654c_3f0a_11eb_a705_e4f89ccea7b0row9_col1\" class=\"data row9 col1\" >10.3438</td>\n",
       "                        <td id=\"T_3882654c_3f0a_11eb_a705_e4f89ccea7b0row9_col2\" class=\"data row9 col2\" >-0.197226</td>\n",
       "            </tr>\n",
       "            <tr>\n",
       "                        <th id=\"T_3882654c_3f0a_11eb_a705_e4f89ccea7b0level0_row10\" class=\"row_heading level0 row10\" >k.[45,49]</th>\n",
       "                        <td id=\"T_3882654c_3f0a_11eb_a705_e4f89ccea7b0row10_col0\" class=\"data row10 col0\" >11.2847</td>\n",
       "                        <td id=\"T_3882654c_3f0a_11eb_a705_e4f89ccea7b0row10_col1\" class=\"data row10 col1\" >8.36778</td>\n",
       "                        <td id=\"T_3882654c_3f0a_11eb_a705_e4f89ccea7b0row10_col2\" class=\"data row10 col2\" >-0.258483</td>\n",
       "            </tr>\n",
       "            <tr>\n",
       "                        <th id=\"T_3882654c_3f0a_11eb_a705_e4f89ccea7b0level0_row11\" class=\"row_heading level0 row11\" >l.[50,54]</th>\n",
       "                        <td id=\"T_3882654c_3f0a_11eb_a705_e4f89ccea7b0row11_col0\" class=\"data row11 col0\" >9.46271</td>\n",
       "                        <td id=\"T_3882654c_3f0a_11eb_a705_e4f89ccea7b0row11_col1\" class=\"data row11 col1\" >8.05525</td>\n",
       "                        <td id=\"T_3882654c_3f0a_11eb_a705_e4f89ccea7b0row11_col2\" class=\"data row11 col2\" >-0.148738</td>\n",
       "            </tr>\n",
       "            <tr>\n",
       "                        <th id=\"T_3882654c_3f0a_11eb_a705_e4f89ccea7b0level0_row12\" class=\"row_heading level0 row12\" >m.[55,59]</th>\n",
       "                        <td id=\"T_3882654c_3f0a_11eb_a705_e4f89ccea7b0row12_col0\" class=\"data row12 col0\" >7.53406</td>\n",
       "                        <td id=\"T_3882654c_3f0a_11eb_a705_e4f89ccea7b0row12_col1\" class=\"data row12 col1\" >5.15173</td>\n",
       "                        <td id=\"T_3882654c_3f0a_11eb_a705_e4f89ccea7b0row12_col2\" class=\"data row12 col2\" >-0.316208</td>\n",
       "            </tr>\n",
       "            <tr>\n",
       "                        <th id=\"T_3882654c_3f0a_11eb_a705_e4f89ccea7b0level0_row13\" class=\"row_heading level0 row13\" >n.[60,64]</th>\n",
       "                        <td id=\"T_3882654c_3f0a_11eb_a705_e4f89ccea7b0row13_col0\" class=\"data row13 col0\" >4.6698</td>\n",
       "                        <td id=\"T_3882654c_3f0a_11eb_a705_e4f89ccea7b0row13_col1\" class=\"data row13 col1\" >3.31687</td>\n",
       "                        <td id=\"T_3882654c_3f0a_11eb_a705_e4f89ccea7b0row13_col2\" class=\"data row13 col2\" >-0.28972</td>\n",
       "            </tr>\n",
       "            <tr>\n",
       "                        <th id=\"T_3882654c_3f0a_11eb_a705_e4f89ccea7b0level0_row14\" class=\"row_heading level0 row14\" >o.[65,69]</th>\n",
       "                        <td id=\"T_3882654c_3f0a_11eb_a705_e4f89ccea7b0row14_col0\" class=\"data row14 col0\" >2.43475</td>\n",
       "                        <td id=\"T_3882654c_3f0a_11eb_a705_e4f89ccea7b0row14_col1\" class=\"data row14 col1\" >1.45176</td>\n",
       "                        <td id=\"T_3882654c_3f0a_11eb_a705_e4f89ccea7b0row14_col2\" class=\"data row14 col2\" >-0.403735</td>\n",
       "            </tr>\n",
       "            <tr>\n",
       "                        <th id=\"T_3882654c_3f0a_11eb_a705_e4f89ccea7b0level0_row15\" class=\"row_heading level0 row15\" >p.[70,74]</th>\n",
       "                        <td id=\"T_3882654c_3f0a_11eb_a705_e4f89ccea7b0row15_col0\" class=\"data row15 col0\" >1.75357</td>\n",
       "                        <td id=\"T_3882654c_3f0a_11eb_a705_e4f89ccea7b0row15_col1\" class=\"data row15 col1\" >0.90735</td>\n",
       "                        <td id=\"T_3882654c_3f0a_11eb_a705_e4f89ccea7b0row15_col2\" class=\"data row15 col2\" >-0.48257</td>\n",
       "            </tr>\n",
       "            <tr>\n",
       "                        <th id=\"T_3882654c_3f0a_11eb_a705_e4f89ccea7b0level0_row16\" class=\"row_heading level0 row16\" >q.[75,.)</th>\n",
       "                        <td id=\"T_3882654c_3f0a_11eb_a705_e4f89ccea7b0row16_col0\" class=\"data row16 col0\" >3.00651</td>\n",
       "                        <td id=\"T_3882654c_3f0a_11eb_a705_e4f89ccea7b0row16_col1\" class=\"data row16 col1\" >0.977921</td>\n",
       "                        <td id=\"T_3882654c_3f0a_11eb_a705_e4f89ccea7b0row16_col2\" class=\"data row16 col2\" >-0.674732</td>\n",
       "            </tr>\n",
       "    </tbody></table>"
      ],
      "text/plain": [
       "<pandas.io.formats.style.Styler at 0x24cb120dcf8>"
      ]
     },
     "execution_count": 22,
     "metadata": {},
     "output_type": "execute_result"
    }
   ],
   "source": [
    "comp_df = pd.merge(dd, dd2, left_index=True, right_index=True) # merge of the two database that I want to compare\n",
    "comp_df['Diff_perc_point'] = comp_df['perc_party'] / comp_df['perc_day']-1\n",
    "comp_df.style.bar(subset=['Diff_perc_point'], align='mid', color=['#d65f5f', '#5fba7d'])"
   ]
  },
  {
   "cell_type": "markdown",
   "metadata": {},
   "source": [
    "## Evaluation <a name=\"Evaluation\"></a>"
   ]
  },
  {
   "cell_type": "markdown",
   "metadata": {},
   "source": [
    "### Results\n",
    "\n",
    "The main findings of the code can be found at the post available [here](https://i-lucas.medium.com/traffic-accidents-are-as-different-as-day-and-night-51b52458646d)."
   ]
  }
 ],
 "metadata": {
  "kernelspec": {
   "display_name": "Python 3",
   "language": "python",
   "name": "python3"
  },
  "language_info": {
   "codemirror_mode": {
    "name": "ipython",
    "version": 3
   },
   "file_extension": ".py",
   "mimetype": "text/x-python",
   "name": "python",
   "nbconvert_exporter": "python",
   "pygments_lexer": "ipython3",
   "version": "3.7.3"
  }
 },
 "nbformat": 4,
 "nbformat_minor": 2
}
